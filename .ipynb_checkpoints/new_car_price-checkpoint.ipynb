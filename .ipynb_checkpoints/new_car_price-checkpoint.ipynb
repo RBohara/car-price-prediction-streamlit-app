{
 "cells": [
  {
   "cell_type": "code",
   "execution_count": 17,
   "id": "6d30d768-3f88-47ea-b471-8542aff1c00a",
   "metadata": {},
   "outputs": [],
   "source": [
    "import pandas as pd\n",
    "import numpy as np"
   ]
  },
  {
   "cell_type": "code",
   "execution_count": 18,
   "id": "98993794-ef75-4a12-a509-fb439f4c92f3",
   "metadata": {},
   "outputs": [],
   "source": [
    "df = pd.read_csv(\"cars.csv\")"
   ]
  },
  {
   "cell_type": "code",
   "execution_count": 19,
   "id": "2b4e72fe-58c7-43c9-9eaf-eea236f41a2a",
   "metadata": {},
   "outputs": [
    {
     "data": {
      "text/html": [
       "<div>\n",
       "<style scoped>\n",
       "    .dataframe tbody tr th:only-of-type {\n",
       "        vertical-align: middle;\n",
       "    }\n",
       "\n",
       "    .dataframe tbody tr th {\n",
       "        vertical-align: top;\n",
       "    }\n",
       "\n",
       "    .dataframe thead th {\n",
       "        text-align: right;\n",
       "    }\n",
       "</style>\n",
       "<table border=\"1\" class=\"dataframe\">\n",
       "  <thead>\n",
       "    <tr style=\"text-align: right;\">\n",
       "      <th></th>\n",
       "      <th>ID</th>\n",
       "      <th>Name</th>\n",
       "      <th>Price</th>\n",
       "      <th>Brand</th>\n",
       "      <th>Model</th>\n",
       "      <th>Variant</th>\n",
       "      <th>Series</th>\n",
       "      <th>Year</th>\n",
       "      <th>Kilometers</th>\n",
       "      <th>Type</th>\n",
       "      <th>Gearbox</th>\n",
       "      <th>Fuel</th>\n",
       "      <th>Status</th>\n",
       "      <th>CC</th>\n",
       "      <th>Color</th>\n",
       "      <th>Seating Capacity</th>\n",
       "    </tr>\n",
       "  </thead>\n",
       "  <tbody>\n",
       "    <tr>\n",
       "      <th>0</th>\n",
       "      <td>11530130</td>\n",
       "      <td>2010 Toyota Rukus Build 2 AZE151R</td>\n",
       "      <td>9999</td>\n",
       "      <td>Toyota</td>\n",
       "      <td>Rukus</td>\n",
       "      <td>Build 2</td>\n",
       "      <td>AZE151R</td>\n",
       "      <td>2010</td>\n",
       "      <td>263000</td>\n",
       "      <td>Wagon</td>\n",
       "      <td>Automatic</td>\n",
       "      <td>Unleaded Petrol</td>\n",
       "      <td>Used</td>\n",
       "      <td>2362</td>\n",
       "      <td>Grey</td>\n",
       "      <td>5</td>\n",
       "    </tr>\n",
       "    <tr>\n",
       "      <th>1</th>\n",
       "      <td>12190570</td>\n",
       "      <td>2021 Mercedes-Benz V 250 D Avantgarde MWB 447 ...</td>\n",
       "      <td>117990</td>\n",
       "      <td>Mercedes-Benz</td>\n",
       "      <td>V</td>\n",
       "      <td>250 D Avantgarde MWB</td>\n",
       "      <td>447 MY21</td>\n",
       "      <td>2021</td>\n",
       "      <td>19</td>\n",
       "      <td>Wagon</td>\n",
       "      <td>Automatic</td>\n",
       "      <td>Diesel</td>\n",
       "      <td>New In Stock</td>\n",
       "      <td>2143</td>\n",
       "      <td>Black</td>\n",
       "      <td>7</td>\n",
       "    </tr>\n",
       "    <tr>\n",
       "      <th>2</th>\n",
       "      <td>12321855</td>\n",
       "      <td>2021 Mercedes-Benz Valente 116 CDI MWB RWD 447...</td>\n",
       "      <td>79990</td>\n",
       "      <td>Mercedes-Benz</td>\n",
       "      <td>Valente</td>\n",
       "      <td>116 CDI MWB RWD</td>\n",
       "      <td>447 MY21</td>\n",
       "      <td>2021</td>\n",
       "      <td>24</td>\n",
       "      <td>Wagon</td>\n",
       "      <td>Automatic</td>\n",
       "      <td>Diesel</td>\n",
       "      <td>New In Stock</td>\n",
       "      <td>2143</td>\n",
       "      <td>Black</td>\n",
       "      <td>8</td>\n",
       "    </tr>\n",
       "    <tr>\n",
       "      <th>3</th>\n",
       "      <td>12346971</td>\n",
       "      <td>2010 Mercedes-Benz E250 CDI Avantgarde 207</td>\n",
       "      <td>34990</td>\n",
       "      <td>Mercedes-Benz</td>\n",
       "      <td>E250</td>\n",
       "      <td>CDI Avantgarde</td>\n",
       "      <td>207</td>\n",
       "      <td>2010</td>\n",
       "      <td>120579</td>\n",
       "      <td>Cabriolet</td>\n",
       "      <td>Automatic</td>\n",
       "      <td>Diesel</td>\n",
       "      <td>Used</td>\n",
       "      <td>2143</td>\n",
       "      <td>Black</td>\n",
       "      <td>4</td>\n",
       "    </tr>\n",
       "    <tr>\n",
       "      <th>4</th>\n",
       "      <td>12363884</td>\n",
       "      <td>2016 Holden Cruze CD JH MY16</td>\n",
       "      <td>15990</td>\n",
       "      <td>Holden</td>\n",
       "      <td>Cruze</td>\n",
       "      <td>CD</td>\n",
       "      <td>JH MY16</td>\n",
       "      <td>2016</td>\n",
       "      <td>72506</td>\n",
       "      <td>Sportswagon</td>\n",
       "      <td>Automatic</td>\n",
       "      <td>Unleaded Petrol</td>\n",
       "      <td>Used</td>\n",
       "      <td>1796</td>\n",
       "      <td>White</td>\n",
       "      <td>5</td>\n",
       "    </tr>\n",
       "  </tbody>\n",
       "</table>\n",
       "</div>"
      ],
      "text/plain": [
       "         ID                                               Name   Price  \\\n",
       "0  11530130                  2010 Toyota Rukus Build 2 AZE151R    9999   \n",
       "1  12190570  2021 Mercedes-Benz V 250 D Avantgarde MWB 447 ...  117990   \n",
       "2  12321855  2021 Mercedes-Benz Valente 116 CDI MWB RWD 447...   79990   \n",
       "3  12346971         2010 Mercedes-Benz E250 CDI Avantgarde 207   34990   \n",
       "4  12363884                       2016 Holden Cruze CD JH MY16   15990   \n",
       "\n",
       "           Brand    Model               Variant    Series  Year  Kilometers  \\\n",
       "0         Toyota    Rukus               Build 2   AZE151R  2010      263000   \n",
       "1  Mercedes-Benz        V  250 D Avantgarde MWB  447 MY21  2021          19   \n",
       "2  Mercedes-Benz  Valente       116 CDI MWB RWD  447 MY21  2021          24   \n",
       "3  Mercedes-Benz     E250        CDI Avantgarde       207  2010      120579   \n",
       "4         Holden    Cruze                    CD   JH MY16  2016       72506   \n",
       "\n",
       "          Type    Gearbox             Fuel         Status    CC  Color  \\\n",
       "0        Wagon  Automatic  Unleaded Petrol           Used  2362   Grey   \n",
       "1        Wagon  Automatic           Diesel   New In Stock  2143  Black   \n",
       "2        Wagon  Automatic           Diesel   New In Stock  2143  Black   \n",
       "3    Cabriolet  Automatic           Diesel           Used  2143  Black   \n",
       "4  Sportswagon  Automatic  Unleaded Petrol           Used  1796  White   \n",
       "\n",
       "   Seating Capacity  \n",
       "0                 5  \n",
       "1                 7  \n",
       "2                 8  \n",
       "3                 4  \n",
       "4                 5  "
      ]
     },
     "execution_count": 19,
     "metadata": {},
     "output_type": "execute_result"
    }
   ],
   "source": [
    "# create a temporary dataframe to work with\n",
    "df_tmp = df.copy()\n",
    "df_tmp.head()"
   ]
  },
  {
   "cell_type": "code",
   "execution_count": 31,
   "id": "10145d99-bc84-474f-a12a-71d83969b134",
   "metadata": {},
   "outputs": [
    {
     "data": {
      "text/plain": [
       "17048"
      ]
     },
     "execution_count": 31,
     "metadata": {},
     "output_type": "execute_result"
    }
   ],
   "source": [
    "len(df_tmp)"
   ]
  },
  {
   "cell_type": "markdown",
   "id": "368a2262-ae4b-4e04-93d5-4cb9f9794d3d",
   "metadata": {},
   "source": [
    "# Based off correlation, we are going to select the features who have correlation from -0.5 to +1 with price. Thus, selected features are: Year, Kilometers, Gearbox, Fuel, Status, CC."
   ]
  },
  {
   "cell_type": "code",
   "execution_count": 20,
   "id": "ddc5c8ed-3bd9-45da-aa9f-060f6d07f381",
   "metadata": {},
   "outputs": [],
   "source": [
    "df_tmp.drop(columns=['ID', 'Name', 'Variant', 'Series', 'Type', 'Color', 'Seating Capacity'], inplace=True)"
   ]
  },
  {
   "cell_type": "code",
   "execution_count": 21,
   "id": "f3bcc27d-05aa-4055-8af3-6b821d0c1e78",
   "metadata": {},
   "outputs": [
    {
     "name": "stdout",
     "output_type": "stream",
     "text": [
      "<class 'pandas.core.frame.DataFrame'>\n",
      "RangeIndex: 17048 entries, 0 to 17047\n",
      "Data columns (total 9 columns):\n",
      " #   Column      Non-Null Count  Dtype \n",
      "---  ------      --------------  ----- \n",
      " 0   Price       17048 non-null  int64 \n",
      " 1   Brand       17048 non-null  object\n",
      " 2   Model       17048 non-null  object\n",
      " 3   Year        17048 non-null  int64 \n",
      " 4   Kilometers  17048 non-null  int64 \n",
      " 5   Gearbox     17048 non-null  object\n",
      " 6   Fuel        17048 non-null  object\n",
      " 7   Status      17048 non-null  object\n",
      " 8   CC          17048 non-null  int64 \n",
      "dtypes: int64(4), object(5)\n",
      "memory usage: 1.2+ MB\n"
     ]
    }
   ],
   "source": [
    "df_tmp.info()"
   ]
  },
  {
   "cell_type": "markdown",
   "id": "33ee4d4c-14eb-404f-9656-b7e8f900aa5a",
   "metadata": {},
   "source": [
    "# Convert all of the string values into category values"
   ]
  },
  {
   "cell_type": "code",
   "execution_count": 22,
   "id": "5762d957-9187-4f57-9986-cbc79bc667d5",
   "metadata": {},
   "outputs": [],
   "source": [
    "for label, content in df_tmp.items():\n",
    "    if pd.api.types.is_string_dtype(content):\n",
    "        df_tmp[label] = content.astype(\"category\").cat.codes"
   ]
  },
  {
   "cell_type": "code",
   "execution_count": 23,
   "id": "34abc50f-3b5c-4809-9874-8c45ef74680f",
   "metadata": {},
   "outputs": [
    {
     "name": "stdout",
     "output_type": "stream",
     "text": [
      "<class 'pandas.core.frame.DataFrame'>\n",
      "RangeIndex: 17048 entries, 0 to 17047\n",
      "Data columns (total 9 columns):\n",
      " #   Column      Non-Null Count  Dtype\n",
      "---  ------      --------------  -----\n",
      " 0   Price       17048 non-null  int64\n",
      " 1   Brand       17048 non-null  int8 \n",
      " 2   Model       17048 non-null  int16\n",
      " 3   Year        17048 non-null  int64\n",
      " 4   Kilometers  17048 non-null  int64\n",
      " 5   Gearbox     17048 non-null  int8 \n",
      " 6   Fuel        17048 non-null  int8 \n",
      " 7   Status      17048 non-null  int8 \n",
      " 8   CC          17048 non-null  int64\n",
      "dtypes: int16(1), int64(4), int8(4)\n",
      "memory usage: 632.8 KB\n"
     ]
    }
   ],
   "source": [
    "df_tmp.info()"
   ]
  },
  {
   "cell_type": "code",
   "execution_count": 24,
   "id": "25afab03-badd-4cb2-a616-f42f1ef456f4",
   "metadata": {},
   "outputs": [
    {
     "data": {
      "text/plain": [
       "Price         0\n",
       "Brand         0\n",
       "Model         0\n",
       "Year          0\n",
       "Kilometers    0\n",
       "Gearbox       0\n",
       "Fuel          0\n",
       "Status        0\n",
       "CC            0\n",
       "dtype: int64"
      ]
     },
     "execution_count": 24,
     "metadata": {},
     "output_type": "execute_result"
    }
   ],
   "source": [
    "df_tmp.isna().sum()"
   ]
  },
  {
   "cell_type": "code",
   "execution_count": 25,
   "id": "af6976d4-75d7-4365-8766-8a75d8e6b8c8",
   "metadata": {},
   "outputs": [
    {
     "data": {
      "text/plain": [
       "RandomForestRegressor(n_jobs=-1, random_state=42)"
      ]
     },
     "execution_count": 25,
     "metadata": {},
     "output_type": "execute_result"
    }
   ],
   "source": [
    "from sklearn.ensemble import RandomForestRegressor\n",
    "\n",
    "X = df_tmp.drop(\"Price\", axis=1)\n",
    "y = df_tmp[\"Price\"]\n",
    "\n",
    "# Instantiate model\n",
    "model = RandomForestRegressor(n_jobs=-1, random_state=42)\n",
    "\n",
    "# Fit the model\n",
    "model.fit(X, y)"
   ]
  },
  {
   "cell_type": "code",
   "execution_count": 26,
   "id": "bd2f943a-5d02-40d5-9bf5-141085bec454",
   "metadata": {},
   "outputs": [
    {
     "data": {
      "text/plain": [
       "0.9801778259180698"
      ]
     },
     "execution_count": 26,
     "metadata": {},
     "output_type": "execute_result"
    }
   ],
   "source": [
    "model.score(X, y)"
   ]
  },
  {
   "cell_type": "code",
   "execution_count": 27,
   "id": "c4ed4128-9c0d-47b1-b757-5a075db22f3f",
   "metadata": {},
   "outputs": [],
   "source": [
    "from sklearn.model_selection import train_test_split\n",
    "\n",
    "X_train, X_test, y_train, y_test = train_test_split(X, y, test_size=0.33, shuffle=True, random_state=42)"
   ]
  },
  {
   "cell_type": "code",
   "execution_count": 28,
   "id": "0a61c708-d26b-4068-86d9-d40172ccc2b8",
   "metadata": {},
   "outputs": [
    {
     "data": {
      "text/plain": [
       "0.9743079619191913"
      ]
     },
     "execution_count": 28,
     "metadata": {},
     "output_type": "execute_result"
    }
   ],
   "source": [
    "model.score(X_test, y_test)"
   ]
  },
  {
   "cell_type": "code",
   "execution_count": 29,
   "id": "127090f6-c020-48ed-bcf3-a2afb4a5a6df",
   "metadata": {},
   "outputs": [
    {
     "data": {
      "text/plain": [
       "0.9826393306102253"
      ]
     },
     "execution_count": 29,
     "metadata": {},
     "output_type": "execute_result"
    }
   ],
   "source": [
    "model.score(X_train, y_train)"
   ]
  },
  {
   "cell_type": "markdown",
   "id": "0d74da7a-cf44-4d4f-b0a2-791b76c96433",
   "metadata": {},
   "source": [
    "# Building an evaluation function"
   ]
  },
  {
   "cell_type": "code",
   "execution_count": 35,
   "id": "a4d2aafe-504b-407c-9f19-95dcd5419add",
   "metadata": {},
   "outputs": [],
   "source": [
    "# Create evaluation function\n",
    "from sklearn.metrics import mean_squared_log_error, mean_absolute_error, r2_score\n",
    "\n",
    "def rmsle(y_test, y_preds):\n",
    "    \"\"\"\n",
    "    Calculate root mean squared log error between predictions and\n",
    "    true labels.\n",
    "    \"\"\"\n",
    "    return np.sqrt(mean_squared_log_error(y_test, y_preds))\n",
    "\n",
    "# Create function to evaluate model on a few different levels\n",
    "def show_scores(model):\n",
    "    train_preds = model.predict(X_train)\n",
    "    test_preds = model.predict(X_test)\n",
    "    scores = {\"Training MAE\": mean_absolute_error(y_train, train_preds),\n",
    "              \"Test MAE\": mean_absolute_error(y_test, test_preds),\n",
    "              \"Training RMSLE\": rmsle(y_train, train_preds),\n",
    "              \"Test RMSLE\": rmsle(y_test, test_preds),\n",
    "              \"Training R^2\": r2_score(y_train, train_preds),\n",
    "              \"Test R^2\": r2_score(y_test, test_preds)}\n",
    "    return scores"
   ]
  },
  {
   "cell_type": "markdown",
   "id": "82da3f55-c008-43df-9bc0-dcb2b88d9c7a",
   "metadata": {},
   "source": [
    "## Testing our model on a subset (to tune the hyperparameters)"
   ]
  },
  {
   "cell_type": "code",
   "execution_count": 36,
   "id": "6b2b3c01-d945-4493-ba77-6e8b607e316c",
   "metadata": {},
   "outputs": [],
   "source": [
    "# change max_samples value\n",
    "model = RandomForestRegressor(n_jobs=-1,\n",
    "                              random_state=42,\n",
    "                              max_samples=10000)"
   ]
  },
  {
   "cell_type": "code",
   "execution_count": 37,
   "id": "10e30f64-a00d-4b05-be91-7fdd714dce4d",
   "metadata": {},
   "outputs": [
    {
     "data": {
      "text/plain": [
       "RandomForestRegressor(max_samples=10000, n_jobs=-1, random_state=42)"
      ]
     },
     "execution_count": 37,
     "metadata": {},
     "output_type": "execute_result"
    }
   ],
   "source": [
    "model.fit(X_train, y_train)"
   ]
  },
  {
   "cell_type": "code",
   "execution_count": 38,
   "id": "5ec62b22-70a8-4dfc-a84f-4841dab27cb9",
   "metadata": {},
   "outputs": [
    {
     "ename": "AttributeError",
     "evalue": "'RandomForestRegressor' object has no attribute 'r2_score'",
     "output_type": "error",
     "traceback": [
      "\u001b[0;31m---------------------------------------------------------------------------\u001b[0m",
      "\u001b[0;31mAttributeError\u001b[0m                            Traceback (most recent call last)",
      "\u001b[0;32m/var/folders/by/c8qg0h751rb0z1bqrd96ljwc0000gn/T/ipykernel_10765/265503010.py\u001b[0m in \u001b[0;36m<module>\u001b[0;34m\u001b[0m\n\u001b[0;32m----> 1\u001b[0;31m \u001b[0mshow_scores\u001b[0m\u001b[0;34m(\u001b[0m\u001b[0mmodel\u001b[0m\u001b[0;34m)\u001b[0m\u001b[0;34m\u001b[0m\u001b[0;34m\u001b[0m\u001b[0m\n\u001b[0m",
      "\u001b[0;32m/var/folders/by/c8qg0h751rb0z1bqrd96ljwc0000gn/T/ipykernel_10765/262717267.py\u001b[0m in \u001b[0;36mshow_scores\u001b[0;34m(model)\u001b[0m\n\u001b[1;32m     17\u001b[0m               \u001b[0;34m\"Training RMSLE\"\u001b[0m\u001b[0;34m:\u001b[0m \u001b[0mrmsle\u001b[0m\u001b[0;34m(\u001b[0m\u001b[0my_train\u001b[0m\u001b[0;34m,\u001b[0m \u001b[0mtrain_preds\u001b[0m\u001b[0;34m)\u001b[0m\u001b[0;34m,\u001b[0m\u001b[0;34m\u001b[0m\u001b[0;34m\u001b[0m\u001b[0m\n\u001b[1;32m     18\u001b[0m               \u001b[0;34m\"Test RMSLE\"\u001b[0m\u001b[0;34m:\u001b[0m \u001b[0mrmsle\u001b[0m\u001b[0;34m(\u001b[0m\u001b[0my_test\u001b[0m\u001b[0;34m,\u001b[0m \u001b[0mtest_preds\u001b[0m\u001b[0;34m)\u001b[0m\u001b[0;34m,\u001b[0m\u001b[0;34m\u001b[0m\u001b[0;34m\u001b[0m\u001b[0m\n\u001b[0;32m---> 19\u001b[0;31m               \u001b[0;34m\"Training R^2\"\u001b[0m\u001b[0;34m:\u001b[0m \u001b[0mmodel\u001b[0m\u001b[0;34m.\u001b[0m\u001b[0mr2_score\u001b[0m\u001b[0;34m(\u001b[0m\u001b[0my_train\u001b[0m\u001b[0;34m,\u001b[0m \u001b[0mtrain_preds\u001b[0m\u001b[0;34m)\u001b[0m\u001b[0;34m,\u001b[0m\u001b[0;34m\u001b[0m\u001b[0;34m\u001b[0m\u001b[0m\n\u001b[0m\u001b[1;32m     20\u001b[0m               \"Test R^2\": model.r2_score(y_test, test_preds)}\n\u001b[1;32m     21\u001b[0m     \u001b[0;32mreturn\u001b[0m \u001b[0mscores\u001b[0m\u001b[0;34m\u001b[0m\u001b[0;34m\u001b[0m\u001b[0m\n",
      "\u001b[0;31mAttributeError\u001b[0m: 'RandomForestRegressor' object has no attribute 'r2_score'"
     ]
    }
   ],
   "source": [
    "show_scores(model)"
   ]
  },
  {
   "cell_type": "code",
   "execution_count": null,
   "id": "3f7764e8-267a-4549-b979-a15f16e8b162",
   "metadata": {},
   "outputs": [],
   "source": []
  }
 ],
 "metadata": {
  "kernelspec": {
   "display_name": "Python 3 (ipykernel)",
   "language": "python",
   "name": "python3"
  },
  "language_info": {
   "codemirror_mode": {
    "name": "ipython",
    "version": 3
   },
   "file_extension": ".py",
   "mimetype": "text/x-python",
   "name": "python",
   "nbconvert_exporter": "python",
   "pygments_lexer": "ipython3",
   "version": "3.9.7"
  }
 },
 "nbformat": 4,
 "nbformat_minor": 5
}
