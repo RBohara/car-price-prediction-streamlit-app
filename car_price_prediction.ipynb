{
 "cells": [
  {
   "cell_type": "code",
   "execution_count": 2,
   "id": "0230c120-539f-435a-b8ff-1a09a5e633cf",
   "metadata": {},
   "outputs": [],
   "source": [
    "import numpy as np\n",
    "import pandas as pd"
   ]
  },
  {
   "cell_type": "code",
   "execution_count": 3,
   "id": "ede7bde4-8a08-4b08-8695-57ba0adfce38",
   "metadata": {},
   "outputs": [],
   "source": [
    "car_df = pd.read_csv(\"cars.csv\", index_col=False)\n",
    "car_df_tmp = car_df.copy()"
   ]
  },
  {
   "cell_type": "code",
   "execution_count": 4,
   "id": "f366688f-f085-44fa-8799-4b697549c5db",
   "metadata": {},
   "outputs": [
    {
     "data": {
      "text/html": [
       "<div>\n",
       "<style scoped>\n",
       "    .dataframe tbody tr th:only-of-type {\n",
       "        vertical-align: middle;\n",
       "    }\n",
       "\n",
       "    .dataframe tbody tr th {\n",
       "        vertical-align: top;\n",
       "    }\n",
       "\n",
       "    .dataframe thead th {\n",
       "        text-align: right;\n",
       "    }\n",
       "</style>\n",
       "<table border=\"1\" class=\"dataframe\">\n",
       "  <thead>\n",
       "    <tr style=\"text-align: right;\">\n",
       "      <th></th>\n",
       "      <th>ID</th>\n",
       "      <th>Price</th>\n",
       "      <th>Year</th>\n",
       "      <th>Kilometers</th>\n",
       "      <th>CC</th>\n",
       "      <th>Seating Capacity</th>\n",
       "    </tr>\n",
       "  </thead>\n",
       "  <tbody>\n",
       "    <tr>\n",
       "      <th>count</th>\n",
       "      <td>1.704800e+04</td>\n",
       "      <td>17048.000000</td>\n",
       "      <td>17048.000000</td>\n",
       "      <td>1.704800e+04</td>\n",
       "      <td>17048.000000</td>\n",
       "      <td>17048.000000</td>\n",
       "    </tr>\n",
       "    <tr>\n",
       "      <th>mean</th>\n",
       "      <td>1.279027e+07</td>\n",
       "      <td>36777.778038</td>\n",
       "      <td>2015.481288</td>\n",
       "      <td>1.032314e+05</td>\n",
       "      <td>2491.830303</td>\n",
       "      <td>5.115849</td>\n",
       "    </tr>\n",
       "    <tr>\n",
       "      <th>std</th>\n",
       "      <td>5.051111e+04</td>\n",
       "      <td>30305.015328</td>\n",
       "      <td>4.721591</td>\n",
       "      <td>8.041313e+04</td>\n",
       "      <td>881.985562</td>\n",
       "      <td>1.121791</td>\n",
       "    </tr>\n",
       "    <tr>\n",
       "      <th>min</th>\n",
       "      <td>1.153013e+07</td>\n",
       "      <td>1000.000000</td>\n",
       "      <td>1989.000000</td>\n",
       "      <td>1.000000e+00</td>\n",
       "      <td>875.000000</td>\n",
       "      <td>2.000000</td>\n",
       "    </tr>\n",
       "    <tr>\n",
       "      <th>25%</th>\n",
       "      <td>1.275715e+07</td>\n",
       "      <td>18800.000000</td>\n",
       "      <td>2013.000000</td>\n",
       "      <td>4.450225e+04</td>\n",
       "      <td>1987.000000</td>\n",
       "      <td>5.000000</td>\n",
       "    </tr>\n",
       "    <tr>\n",
       "      <th>50%</th>\n",
       "      <td>1.280207e+07</td>\n",
       "      <td>29990.000000</td>\n",
       "      <td>2016.000000</td>\n",
       "      <td>8.845400e+04</td>\n",
       "      <td>2354.000000</td>\n",
       "      <td>5.000000</td>\n",
       "    </tr>\n",
       "    <tr>\n",
       "      <th>75%</th>\n",
       "      <td>1.283131e+07</td>\n",
       "      <td>45990.000000</td>\n",
       "      <td>2019.000000</td>\n",
       "      <td>1.488735e+05</td>\n",
       "      <td>2981.000000</td>\n",
       "      <td>5.000000</td>\n",
       "    </tr>\n",
       "    <tr>\n",
       "      <th>max</th>\n",
       "      <td>1.285246e+07</td>\n",
       "      <td>999000.000000</td>\n",
       "      <td>2022.000000</td>\n",
       "      <td>2.700000e+06</td>\n",
       "      <td>7300.000000</td>\n",
       "      <td>14.000000</td>\n",
       "    </tr>\n",
       "  </tbody>\n",
       "</table>\n",
       "</div>"
      ],
      "text/plain": [
       "                 ID          Price          Year    Kilometers            CC  \\\n",
       "count  1.704800e+04   17048.000000  17048.000000  1.704800e+04  17048.000000   \n",
       "mean   1.279027e+07   36777.778038   2015.481288  1.032314e+05   2491.830303   \n",
       "std    5.051111e+04   30305.015328      4.721591  8.041313e+04    881.985562   \n",
       "min    1.153013e+07    1000.000000   1989.000000  1.000000e+00    875.000000   \n",
       "25%    1.275715e+07   18800.000000   2013.000000  4.450225e+04   1987.000000   \n",
       "50%    1.280207e+07   29990.000000   2016.000000  8.845400e+04   2354.000000   \n",
       "75%    1.283131e+07   45990.000000   2019.000000  1.488735e+05   2981.000000   \n",
       "max    1.285246e+07  999000.000000   2022.000000  2.700000e+06   7300.000000   \n",
       "\n",
       "       Seating Capacity  \n",
       "count      17048.000000  \n",
       "mean           5.115849  \n",
       "std            1.121791  \n",
       "min            2.000000  \n",
       "25%            5.000000  \n",
       "50%            5.000000  \n",
       "75%            5.000000  \n",
       "max           14.000000  "
      ]
     },
     "execution_count": 4,
     "metadata": {},
     "output_type": "execute_result"
    }
   ],
   "source": [
    "car_df_tmp.describe()"
   ]
  },
  {
   "cell_type": "code",
   "execution_count": 6,
   "id": "d21ae41a-a617-4b26-930b-8aa1a67d824d",
   "metadata": {},
   "outputs": [
    {
     "data": {
      "text/plain": [
       "ID                  0\n",
       "Name                0\n",
       "Price               0\n",
       "Brand               0\n",
       "Model               0\n",
       "Variant             0\n",
       "Series              0\n",
       "Year                0\n",
       "Kilometers          0\n",
       "Type                0\n",
       "Gearbox             0\n",
       "Fuel                0\n",
       "Status              0\n",
       "CC                  0\n",
       "Color               0\n",
       "Seating Capacity    0\n",
       "dtype: int64"
      ]
     },
     "execution_count": 6,
     "metadata": {},
     "output_type": "execute_result"
    }
   ],
   "source": [
    "car_df_tmp.isnull().sum()"
   ]
  },
  {
   "cell_type": "markdown",
   "id": "d057fead-d11e-4828-96dd-e5ef95f6255e",
   "metadata": {},
   "source": [
    "# Split the dataset into features and target variable"
   ]
  },
  {
   "cell_type": "code",
   "execution_count": 20,
   "id": "6ca1573e-85ad-4c5f-9f2c-bb9c10ecdf92",
   "metadata": {},
   "outputs": [],
   "source": [
    "y = car_df['Price']"
   ]
  },
  {
   "cell_type": "code",
   "execution_count": 21,
   "id": "b46bb543-3e30-4991-9144-b04ed7b32b78",
   "metadata": {},
   "outputs": [],
   "source": [
    "X = car_df.drop(columns=['Price'])"
   ]
  },
  {
   "cell_type": "code",
   "execution_count": 22,
   "id": "e26351c6-0262-46d3-b8e9-a68745febc04",
   "metadata": {},
   "outputs": [
    {
     "data": {
      "text/html": [
       "<div>\n",
       "<style scoped>\n",
       "    .dataframe tbody tr th:only-of-type {\n",
       "        vertical-align: middle;\n",
       "    }\n",
       "\n",
       "    .dataframe tbody tr th {\n",
       "        vertical-align: top;\n",
       "    }\n",
       "\n",
       "    .dataframe thead th {\n",
       "        text-align: right;\n",
       "    }\n",
       "</style>\n",
       "<table border=\"1\" class=\"dataframe\">\n",
       "  <thead>\n",
       "    <tr style=\"text-align: right;\">\n",
       "      <th></th>\n",
       "      <th>ID</th>\n",
       "      <th>Name</th>\n",
       "      <th>Brand</th>\n",
       "      <th>Model</th>\n",
       "      <th>Variant</th>\n",
       "      <th>Series</th>\n",
       "      <th>Year</th>\n",
       "      <th>Kilometers</th>\n",
       "      <th>Type</th>\n",
       "      <th>Gearbox</th>\n",
       "      <th>Fuel</th>\n",
       "      <th>Status</th>\n",
       "      <th>CC</th>\n",
       "      <th>Color</th>\n",
       "      <th>Seating Capacity</th>\n",
       "    </tr>\n",
       "  </thead>\n",
       "  <tbody>\n",
       "    <tr>\n",
       "      <th>0</th>\n",
       "      <td>11530130</td>\n",
       "      <td>2010 Toyota Rukus Build 2 AZE151R</td>\n",
       "      <td>Toyota</td>\n",
       "      <td>Rukus</td>\n",
       "      <td>Build 2</td>\n",
       "      <td>AZE151R</td>\n",
       "      <td>2010</td>\n",
       "      <td>263000</td>\n",
       "      <td>Wagon</td>\n",
       "      <td>Automatic</td>\n",
       "      <td>Unleaded Petrol</td>\n",
       "      <td>Used</td>\n",
       "      <td>2362</td>\n",
       "      <td>Grey</td>\n",
       "      <td>5</td>\n",
       "    </tr>\n",
       "    <tr>\n",
       "      <th>1</th>\n",
       "      <td>12190570</td>\n",
       "      <td>2021 Mercedes-Benz V 250 D Avantgarde MWB 447 ...</td>\n",
       "      <td>Mercedes-Benz</td>\n",
       "      <td>V</td>\n",
       "      <td>250 D Avantgarde MWB</td>\n",
       "      <td>447 MY21</td>\n",
       "      <td>2021</td>\n",
       "      <td>19</td>\n",
       "      <td>Wagon</td>\n",
       "      <td>Automatic</td>\n",
       "      <td>Diesel</td>\n",
       "      <td>New In Stock</td>\n",
       "      <td>2143</td>\n",
       "      <td>Black</td>\n",
       "      <td>7</td>\n",
       "    </tr>\n",
       "    <tr>\n",
       "      <th>2</th>\n",
       "      <td>12321855</td>\n",
       "      <td>2021 Mercedes-Benz Valente 116 CDI MWB RWD 447...</td>\n",
       "      <td>Mercedes-Benz</td>\n",
       "      <td>Valente</td>\n",
       "      <td>116 CDI MWB RWD</td>\n",
       "      <td>447 MY21</td>\n",
       "      <td>2021</td>\n",
       "      <td>24</td>\n",
       "      <td>Wagon</td>\n",
       "      <td>Automatic</td>\n",
       "      <td>Diesel</td>\n",
       "      <td>New In Stock</td>\n",
       "      <td>2143</td>\n",
       "      <td>Black</td>\n",
       "      <td>8</td>\n",
       "    </tr>\n",
       "    <tr>\n",
       "      <th>3</th>\n",
       "      <td>12346971</td>\n",
       "      <td>2010 Mercedes-Benz E250 CDI Avantgarde 207</td>\n",
       "      <td>Mercedes-Benz</td>\n",
       "      <td>E250</td>\n",
       "      <td>CDI Avantgarde</td>\n",
       "      <td>207</td>\n",
       "      <td>2010</td>\n",
       "      <td>120579</td>\n",
       "      <td>Cabriolet</td>\n",
       "      <td>Automatic</td>\n",
       "      <td>Diesel</td>\n",
       "      <td>Used</td>\n",
       "      <td>2143</td>\n",
       "      <td>Black</td>\n",
       "      <td>4</td>\n",
       "    </tr>\n",
       "    <tr>\n",
       "      <th>4</th>\n",
       "      <td>12363884</td>\n",
       "      <td>2016 Holden Cruze CD JH MY16</td>\n",
       "      <td>Holden</td>\n",
       "      <td>Cruze</td>\n",
       "      <td>CD</td>\n",
       "      <td>JH MY16</td>\n",
       "      <td>2016</td>\n",
       "      <td>72506</td>\n",
       "      <td>Sportswagon</td>\n",
       "      <td>Automatic</td>\n",
       "      <td>Unleaded Petrol</td>\n",
       "      <td>Used</td>\n",
       "      <td>1796</td>\n",
       "      <td>White</td>\n",
       "      <td>5</td>\n",
       "    </tr>\n",
       "    <tr>\n",
       "      <th>...</th>\n",
       "      <td>...</td>\n",
       "      <td>...</td>\n",
       "      <td>...</td>\n",
       "      <td>...</td>\n",
       "      <td>...</td>\n",
       "      <td>...</td>\n",
       "      <td>...</td>\n",
       "      <td>...</td>\n",
       "      <td>...</td>\n",
       "      <td>...</td>\n",
       "      <td>...</td>\n",
       "      <td>...</td>\n",
       "      <td>...</td>\n",
       "      <td>...</td>\n",
       "      <td>...</td>\n",
       "    </tr>\n",
       "    <tr>\n",
       "      <th>17043</th>\n",
       "      <td>12852453</td>\n",
       "      <td>2003 Holden Commodore Executive VY</td>\n",
       "      <td>Holden</td>\n",
       "      <td>Commodore</td>\n",
       "      <td>Executive</td>\n",
       "      <td>VY</td>\n",
       "      <td>2003</td>\n",
       "      <td>230441</td>\n",
       "      <td>Sedan</td>\n",
       "      <td>Automatic</td>\n",
       "      <td>Unleaded Petrol</td>\n",
       "      <td>Used</td>\n",
       "      <td>3791</td>\n",
       "      <td>Gold</td>\n",
       "      <td>5</td>\n",
       "    </tr>\n",
       "    <tr>\n",
       "      <th>17044</th>\n",
       "      <td>12852460</td>\n",
       "      <td>2008 Toyota Yaris YR NCP90R</td>\n",
       "      <td>Toyota</td>\n",
       "      <td>Yaris</td>\n",
       "      <td>YR</td>\n",
       "      <td>NCP90R</td>\n",
       "      <td>2008</td>\n",
       "      <td>237113</td>\n",
       "      <td>Hatchback</td>\n",
       "      <td>Manual</td>\n",
       "      <td>Unleaded Petrol</td>\n",
       "      <td>Used</td>\n",
       "      <td>1299</td>\n",
       "      <td>Yellow</td>\n",
       "      <td>5</td>\n",
       "    </tr>\n",
       "    <tr>\n",
       "      <th>17045</th>\n",
       "      <td>12852462</td>\n",
       "      <td>2002 Holden Jackaroo SE LWB (4X4) U8</td>\n",
       "      <td>Holden</td>\n",
       "      <td>Jackaroo</td>\n",
       "      <td>SE LWB (4X4)</td>\n",
       "      <td>U8</td>\n",
       "      <td>2002</td>\n",
       "      <td>238768</td>\n",
       "      <td>Wagon</td>\n",
       "      <td>Automatic</td>\n",
       "      <td>Diesel</td>\n",
       "      <td>Used</td>\n",
       "      <td>2999</td>\n",
       "      <td>Gold</td>\n",
       "      <td>7</td>\n",
       "    </tr>\n",
       "    <tr>\n",
       "      <th>17046</th>\n",
       "      <td>12852463</td>\n",
       "      <td>2016 Hyundai I30 Active GD4 Series 2</td>\n",
       "      <td>Hyundai</td>\n",
       "      <td>I30</td>\n",
       "      <td>Active</td>\n",
       "      <td>GD4 Series 2</td>\n",
       "      <td>2016</td>\n",
       "      <td>49800</td>\n",
       "      <td>Hatchback</td>\n",
       "      <td>Manual</td>\n",
       "      <td>Unleaded Petrol</td>\n",
       "      <td>Used</td>\n",
       "      <td>1797</td>\n",
       "      <td>Blue</td>\n",
       "      <td>5</td>\n",
       "    </tr>\n",
       "    <tr>\n",
       "      <th>17047</th>\n",
       "      <td>12852464</td>\n",
       "      <td>2005 Toyota RAV4 Cruiser (4X4) ACA23R</td>\n",
       "      <td>Toyota</td>\n",
       "      <td>RAV4</td>\n",
       "      <td>Cruiser (4X4)</td>\n",
       "      <td>ACA23R</td>\n",
       "      <td>2005</td>\n",
       "      <td>255809</td>\n",
       "      <td>Wagon</td>\n",
       "      <td>Manual</td>\n",
       "      <td>Unleaded Petrol</td>\n",
       "      <td>Used</td>\n",
       "      <td>2362</td>\n",
       "      <td>Grey</td>\n",
       "      <td>5</td>\n",
       "    </tr>\n",
       "  </tbody>\n",
       "</table>\n",
       "<p>17048 rows × 15 columns</p>\n",
       "</div>"
      ],
      "text/plain": [
       "             ID                                               Name  \\\n",
       "0      11530130                  2010 Toyota Rukus Build 2 AZE151R   \n",
       "1      12190570  2021 Mercedes-Benz V 250 D Avantgarde MWB 447 ...   \n",
       "2      12321855  2021 Mercedes-Benz Valente 116 CDI MWB RWD 447...   \n",
       "3      12346971         2010 Mercedes-Benz E250 CDI Avantgarde 207   \n",
       "4      12363884                       2016 Holden Cruze CD JH MY16   \n",
       "...         ...                                                ...   \n",
       "17043  12852453                 2003 Holden Commodore Executive VY   \n",
       "17044  12852460                        2008 Toyota Yaris YR NCP90R   \n",
       "17045  12852462               2002 Holden Jackaroo SE LWB (4X4) U8   \n",
       "17046  12852463               2016 Hyundai I30 Active GD4 Series 2   \n",
       "17047  12852464              2005 Toyota RAV4 Cruiser (4X4) ACA23R   \n",
       "\n",
       "               Brand      Model               Variant        Series  Year  \\\n",
       "0             Toyota      Rukus               Build 2       AZE151R  2010   \n",
       "1      Mercedes-Benz          V  250 D Avantgarde MWB      447 MY21  2021   \n",
       "2      Mercedes-Benz    Valente       116 CDI MWB RWD      447 MY21  2021   \n",
       "3      Mercedes-Benz       E250        CDI Avantgarde           207  2010   \n",
       "4             Holden      Cruze                    CD       JH MY16  2016   \n",
       "...              ...        ...                   ...           ...   ...   \n",
       "17043         Holden  Commodore             Executive            VY  2003   \n",
       "17044         Toyota      Yaris                    YR        NCP90R  2008   \n",
       "17045         Holden   Jackaroo          SE LWB (4X4)            U8  2002   \n",
       "17046        Hyundai        I30                Active  GD4 Series 2  2016   \n",
       "17047         Toyota       RAV4         Cruiser (4X4)        ACA23R  2005   \n",
       "\n",
       "       Kilometers         Type    Gearbox             Fuel         Status  \\\n",
       "0          263000        Wagon  Automatic  Unleaded Petrol           Used   \n",
       "1              19        Wagon  Automatic           Diesel   New In Stock   \n",
       "2              24        Wagon  Automatic           Diesel   New In Stock   \n",
       "3          120579    Cabriolet  Automatic           Diesel           Used   \n",
       "4           72506  Sportswagon  Automatic  Unleaded Petrol           Used   \n",
       "...           ...          ...        ...              ...            ...   \n",
       "17043      230441        Sedan  Automatic  Unleaded Petrol           Used   \n",
       "17044      237113    Hatchback     Manual  Unleaded Petrol           Used   \n",
       "17045      238768        Wagon  Automatic           Diesel           Used   \n",
       "17046       49800    Hatchback     Manual  Unleaded Petrol           Used   \n",
       "17047      255809        Wagon     Manual  Unleaded Petrol           Used   \n",
       "\n",
       "         CC   Color  Seating Capacity  \n",
       "0      2362    Grey                 5  \n",
       "1      2143   Black                 7  \n",
       "2      2143   Black                 8  \n",
       "3      2143   Black                 4  \n",
       "4      1796   White                 5  \n",
       "...     ...     ...               ...  \n",
       "17043  3791    Gold                 5  \n",
       "17044  1299  Yellow                 5  \n",
       "17045  2999    Gold                 7  \n",
       "17046  1797    Blue                 5  \n",
       "17047  2362    Grey                 5  \n",
       "\n",
       "[17048 rows x 15 columns]"
      ]
     },
     "execution_count": 22,
     "metadata": {},
     "output_type": "execute_result"
    }
   ],
   "source": [
    "X"
   ]
  },
  {
   "cell_type": "code",
   "execution_count": 23,
   "id": "f5824d44-6fc3-454d-9534-83d353032b78",
   "metadata": {},
   "outputs": [
    {
     "data": {
      "text/plain": [
       "0          9999\n",
       "1        117990\n",
       "2         79990\n",
       "3         34990\n",
       "4         15990\n",
       "          ...  \n",
       "17043      4499\n",
       "17044      4999\n",
       "17045      7999\n",
       "17046     14000\n",
       "17047      5999\n",
       "Name: Price, Length: 17048, dtype: int64"
      ]
     },
     "execution_count": 23,
     "metadata": {},
     "output_type": "execute_result"
    }
   ],
   "source": [
    "y"
   ]
  },
  {
   "cell_type": "code",
   "execution_count": 26,
   "id": "89ef12f6-0482-40b6-814b-898347d9e702",
   "metadata": {},
   "outputs": [],
   "source": [
    "np.random.seed(10)"
   ]
  },
  {
   "cell_type": "code",
   "execution_count": 30,
   "id": "1e7247b4-f038-4d93-89f0-f6dc8810b3ed",
   "metadata": {},
   "outputs": [
    {
     "data": {
      "text/plain": [
       "ID                   int64\n",
       "Name                object\n",
       "Price                int64\n",
       "Brand               object\n",
       "Model               object\n",
       "Variant             object\n",
       "Series              object\n",
       "Year                 int64\n",
       "Kilometers           int64\n",
       "Type                object\n",
       "Gearbox             object\n",
       "Fuel                object\n",
       "Status              object\n",
       "CC                   int64\n",
       "Color               object\n",
       "Seating Capacity     int64\n",
       "dtype: object"
      ]
     },
     "execution_count": 30,
     "metadata": {},
     "output_type": "execute_result"
    }
   ],
   "source": [
    "car_df.dtypes"
   ]
  },
  {
   "cell_type": "code",
   "execution_count": 49,
   "id": "ca2cec3e-9993-4605-b053-f22b243c58f1",
   "metadata": {},
   "outputs": [
    {
     "data": {
      "text/plain": [
       "'2021 Mercedes-Benz V 250 D Avantgarde MWB 447 MY21'"
      ]
     },
     "execution_count": 49,
     "metadata": {},
     "output_type": "execute_result"
    }
   ],
   "source": [
    "car_df.Name[1]"
   ]
  },
  {
   "cell_type": "code",
   "execution_count": 50,
   "id": "ff8b7e42-558b-4080-b77b-77d951034ee9",
   "metadata": {},
   "outputs": [
    {
     "data": {
      "text/plain": [
       "'Mercedes-Benz'"
      ]
     },
     "execution_count": 50,
     "metadata": {},
     "output_type": "execute_result"
    }
   ],
   "source": [
    "car_df.Brand[1]"
   ]
  },
  {
   "cell_type": "code",
   "execution_count": 51,
   "id": "887de5c9-02ca-4f38-9e72-585be39a0e4e",
   "metadata": {},
   "outputs": [
    {
     "data": {
      "text/plain": [
       "'250 D Avantgarde MWB'"
      ]
     },
     "execution_count": 51,
     "metadata": {},
     "output_type": "execute_result"
    }
   ],
   "source": [
    "car_df.Variant[1]"
   ]
  },
  {
   "cell_type": "code",
   "execution_count": 52,
   "id": "1aeddfa0-31a4-4e16-906a-4312048f4460",
   "metadata": {},
   "outputs": [
    {
     "data": {
      "text/plain": [
       "'V'"
      ]
     },
     "execution_count": 52,
     "metadata": {},
     "output_type": "execute_result"
    }
   ],
   "source": [
    "car_df.Model[1]"
   ]
  },
  {
   "cell_type": "code",
   "execution_count": 53,
   "id": "fd4dd999-ec00-4464-ad4d-92e937d4f2fd",
   "metadata": {},
   "outputs": [
    {
     "data": {
      "text/plain": [
       "'447 MY21'"
      ]
     },
     "execution_count": 53,
     "metadata": {},
     "output_type": "execute_result"
    }
   ],
   "source": [
    "car_df.Series[1]"
   ]
  },
  {
   "cell_type": "code",
   "execution_count": 54,
   "id": "77bc7345-607f-4eae-995e-d72b7bc19ecb",
   "metadata": {},
   "outputs": [
    {
     "data": {
      "text/plain": [
       "2021"
      ]
     },
     "execution_count": 54,
     "metadata": {},
     "output_type": "execute_result"
    }
   ],
   "source": [
    "car_df.Year[1]"
   ]
  },
  {
   "cell_type": "code",
   "execution_count": 56,
   "id": "49e4893f-9aaa-4301-80e4-2af0a2f788fd",
   "metadata": {},
   "outputs": [],
   "source": [
    "X.drop(columns=['Name'], inplace=True)"
   ]
  },
  {
   "cell_type": "code",
   "execution_count": 58,
   "id": "1293a65b-7267-45c4-9308-383d987fbb5a",
   "metadata": {},
   "outputs": [],
   "source": [
    "X.drop(columns=['ID'], inplace=True)"
   ]
  },
  {
   "cell_type": "code",
   "execution_count": 61,
   "id": "d1b41c96-4e9b-46c7-a61d-f1def840e5f7",
   "metadata": {},
   "outputs": [],
   "source": [
    "X['Brand'] = X['Brand'].astype('category').cat.codes "
   ]
  },
  {
   "cell_type": "code",
   "execution_count": 62,
   "id": "fcd4fd5f-7011-4d4b-89bf-6d3ee8fdf7ac",
   "metadata": {},
   "outputs": [
    {
     "data": {
      "text/plain": [
       "0        56\n",
       "1        39\n",
       "2        39\n",
       "3        39\n",
       "4        22\n",
       "         ..\n",
       "17043    22\n",
       "17044    56\n",
       "17045    22\n",
       "17046    24\n",
       "17047    56\n",
       "Name: Brand, Length: 17048, dtype: int8"
      ]
     },
     "execution_count": 62,
     "metadata": {},
     "output_type": "execute_result"
    }
   ],
   "source": [
    "X['Brand']"
   ]
  },
  {
   "cell_type": "code",
   "execution_count": 63,
   "id": "3be7b38f-bc8b-463c-a403-2f9690bbe198",
   "metadata": {},
   "outputs": [
    {
     "data": {
      "text/plain": [
       "22"
      ]
     },
     "execution_count": 63,
     "metadata": {},
     "output_type": "execute_result"
    }
   ],
   "source": [
    "X['Brand'][4]"
   ]
  },
  {
   "cell_type": "code",
   "execution_count": 67,
   "id": "2752a244-6855-47ac-9f71-c749b2826d24",
   "metadata": {},
   "outputs": [
    {
     "data": {
      "text/plain": [
       "'Toyota'"
      ]
     },
     "execution_count": 67,
     "metadata": {},
     "output_type": "execute_result"
    }
   ],
   "source": [
    "car_df['Brand'][0]"
   ]
  },
  {
   "cell_type": "code",
   "execution_count": 68,
   "id": "5106dfca-15c2-4df5-8029-e452ccf94b55",
   "metadata": {},
   "outputs": [
    {
     "data": {
      "text/plain": [
       "'Toyota'"
      ]
     },
     "execution_count": 68,
     "metadata": {},
     "output_type": "execute_result"
    }
   ],
   "source": [
    "car_df['Brand'][17044]"
   ]
  },
  {
   "cell_type": "code",
   "execution_count": 69,
   "id": "7b84b8e5-138b-40f9-9565-bf7e527d31e0",
   "metadata": {},
   "outputs": [
    {
     "data": {
      "text/plain": [
       "'Toyota'"
      ]
     },
     "execution_count": 69,
     "metadata": {},
     "output_type": "execute_result"
    }
   ],
   "source": [
    "car_df['Brand'][17047]"
   ]
  },
  {
   "cell_type": "code",
   "execution_count": 70,
   "id": "b90d6966-8fb8-4f1d-8941-4e2366f05a2d",
   "metadata": {},
   "outputs": [
    {
     "data": {
      "text/plain": [
       "ID                   int64\n",
       "Name                object\n",
       "Price                int64\n",
       "Brand               object\n",
       "Model               object\n",
       "Variant             object\n",
       "Series              object\n",
       "Year                 int64\n",
       "Kilometers           int64\n",
       "Type                object\n",
       "Gearbox             object\n",
       "Fuel                object\n",
       "Status              object\n",
       "CC                   int64\n",
       "Color               object\n",
       "Seating Capacity     int64\n",
       "dtype: object"
      ]
     },
     "execution_count": 70,
     "metadata": {},
     "output_type": "execute_result"
    }
   ],
   "source": [
    "car_df.dtypes"
   ]
  },
  {
   "cell_type": "code",
   "execution_count": 71,
   "id": "68019212-3f98-4441-8f19-d24130d0357b",
   "metadata": {},
   "outputs": [],
   "source": [
    "X['Model'] = X['Model'].astype('category').cat.codes\n",
    "X['Variant'] = X['Variant'].astype('category').cat.codes\n",
    "X['Series'] = X['Series'].astype('category').cat.codes\n",
    "X['Type'] = X['Type'].astype('category').cat.codes\n",
    "X['Gearbox'] = X['Gearbox'].astype('category').cat.codes\n",
    "X['Fuel'] = X['Fuel'].astype('category').cat.codes\n",
    "X['Status'] = X['Status'].astype('category').cat.codes\n",
    "X['Color'] = X['Color'].astype('category').cat.codes"
   ]
  },
  {
   "cell_type": "code",
   "execution_count": 72,
   "id": "fa99f505-8dc0-434e-8cda-9f476957c21d",
   "metadata": {},
   "outputs": [
    {
     "data": {
      "text/plain": [
       "Brand                int8\n",
       "Model               int16\n",
       "Variant             int16\n",
       "Series              int16\n",
       "Year                int64\n",
       "Kilometers          int64\n",
       "Type                 int8\n",
       "Gearbox              int8\n",
       "Fuel                 int8\n",
       "Status               int8\n",
       "CC                  int64\n",
       "Color               int16\n",
       "Seating Capacity    int64\n",
       "dtype: object"
      ]
     },
     "execution_count": 72,
     "metadata": {},
     "output_type": "execute_result"
    }
   ],
   "source": [
    "X.dtypes"
   ]
  },
  {
   "cell_type": "code",
   "execution_count": 73,
   "id": "87bd0a9d-570c-4ac5-bb1f-fa5d9f6970a3",
   "metadata": {},
   "outputs": [
    {
     "data": {
      "text/plain": [
       "dtype('int64')"
      ]
     },
     "execution_count": 73,
     "metadata": {},
     "output_type": "execute_result"
    }
   ],
   "source": [
    "y.dtypes"
   ]
  },
  {
   "cell_type": "code",
   "execution_count": 82,
   "id": "647144bf-68ac-4717-841a-96c73656f06d",
   "metadata": {},
   "outputs": [],
   "source": [
    "car_df['Model'] = car_df['Model'].astype('category').cat.codes\n",
    "car_df['Variant'] = car_df['Variant'].astype('category').cat.codes\n",
    "car_df['Series'] = car_df['Series'].astype('category').cat.codes\n",
    "car_df['Type'] = car_df['Type'].astype('category').cat.codes\n",
    "car_df['Gearbox'] = car_df['Gearbox'].astype('category').cat.codes\n",
    "car_df['Fuel'] = car_df['Fuel'].astype('category').cat.codes\n",
    "car_df['Status'] = car_df['Status'].astype('category').cat.codes\n",
    "car_df['Color'] = car_df['Color'].astype('category').cat.codes"
   ]
  },
  {
   "cell_type": "code",
   "execution_count": 85,
   "id": "8572f5ad-9d23-4ba6-870c-241ca554702c",
   "metadata": {},
   "outputs": [
    {
     "data": {
      "text/plain": [
       "Price               1.000000\n",
       "Model               0.070567\n",
       "Variant             0.008540\n",
       "Series             -0.073829\n",
       "Year                0.488033\n",
       "Kilometers         -0.447490\n",
       "Type               -0.016612\n",
       "Gearbox            -0.108792\n",
       "Fuel               -0.244233\n",
       "Status             -0.179523\n",
       "CC                  0.298205\n",
       "Color              -0.056827\n",
       "Seating Capacity    0.046629\n",
       "Name: Price, dtype: float64"
      ]
     },
     "execution_count": 85,
     "metadata": {},
     "output_type": "execute_result"
    }
   ],
   "source": [
    "car_df[car_df.columns[1:]].corr()['Price'][:]"
   ]
  },
  {
   "cell_type": "markdown",
   "id": "36249206-f3a2-4291-bfc8-6221cd4dee26",
   "metadata": {},
   "source": [
    "# Based off correlation, we are going to select the features who have correlation from -0.5 to +1 with price. Thus, selected features are: Year, Kilometers, Gearbox, Fuel, Status, CC."
   ]
  },
  {
   "cell_type": "code",
   "execution_count": 86,
   "id": "00166b94-4257-4750-bb12-f27c07cebb56",
   "metadata": {},
   "outputs": [],
   "source": [
    "X.drop(columns=['Model', 'Variant', 'Series', 'Type', 'Color', 'Seating Capacity'], inplace=True)"
   ]
  },
  {
   "cell_type": "code",
   "execution_count": 87,
   "id": "a3a72dc6-fd56-4374-9c08-ab1eaf629127",
   "metadata": {},
   "outputs": [
    {
     "data": {
      "text/html": [
       "<div>\n",
       "<style scoped>\n",
       "    .dataframe tbody tr th:only-of-type {\n",
       "        vertical-align: middle;\n",
       "    }\n",
       "\n",
       "    .dataframe tbody tr th {\n",
       "        vertical-align: top;\n",
       "    }\n",
       "\n",
       "    .dataframe thead th {\n",
       "        text-align: right;\n",
       "    }\n",
       "</style>\n",
       "<table border=\"1\" class=\"dataframe\">\n",
       "  <thead>\n",
       "    <tr style=\"text-align: right;\">\n",
       "      <th></th>\n",
       "      <th>Brand</th>\n",
       "      <th>Year</th>\n",
       "      <th>Kilometers</th>\n",
       "      <th>Gearbox</th>\n",
       "      <th>Fuel</th>\n",
       "      <th>Status</th>\n",
       "      <th>CC</th>\n",
       "    </tr>\n",
       "  </thead>\n",
       "  <tbody>\n",
       "    <tr>\n",
       "      <th>0</th>\n",
       "      <td>56</td>\n",
       "      <td>2010</td>\n",
       "      <td>263000</td>\n",
       "      <td>1</td>\n",
       "      <td>5</td>\n",
       "      <td>2</td>\n",
       "      <td>2362</td>\n",
       "    </tr>\n",
       "    <tr>\n",
       "      <th>1</th>\n",
       "      <td>39</td>\n",
       "      <td>2021</td>\n",
       "      <td>19</td>\n",
       "      <td>1</td>\n",
       "      <td>0</td>\n",
       "      <td>1</td>\n",
       "      <td>2143</td>\n",
       "    </tr>\n",
       "    <tr>\n",
       "      <th>2</th>\n",
       "      <td>39</td>\n",
       "      <td>2021</td>\n",
       "      <td>24</td>\n",
       "      <td>1</td>\n",
       "      <td>0</td>\n",
       "      <td>1</td>\n",
       "      <td>2143</td>\n",
       "    </tr>\n",
       "    <tr>\n",
       "      <th>3</th>\n",
       "      <td>39</td>\n",
       "      <td>2010</td>\n",
       "      <td>120579</td>\n",
       "      <td>1</td>\n",
       "      <td>0</td>\n",
       "      <td>2</td>\n",
       "      <td>2143</td>\n",
       "    </tr>\n",
       "    <tr>\n",
       "      <th>4</th>\n",
       "      <td>22</td>\n",
       "      <td>2016</td>\n",
       "      <td>72506</td>\n",
       "      <td>1</td>\n",
       "      <td>5</td>\n",
       "      <td>2</td>\n",
       "      <td>1796</td>\n",
       "    </tr>\n",
       "    <tr>\n",
       "      <th>...</th>\n",
       "      <td>...</td>\n",
       "      <td>...</td>\n",
       "      <td>...</td>\n",
       "      <td>...</td>\n",
       "      <td>...</td>\n",
       "      <td>...</td>\n",
       "      <td>...</td>\n",
       "    </tr>\n",
       "    <tr>\n",
       "      <th>17043</th>\n",
       "      <td>22</td>\n",
       "      <td>2003</td>\n",
       "      <td>230441</td>\n",
       "      <td>1</td>\n",
       "      <td>5</td>\n",
       "      <td>2</td>\n",
       "      <td>3791</td>\n",
       "    </tr>\n",
       "    <tr>\n",
       "      <th>17044</th>\n",
       "      <td>56</td>\n",
       "      <td>2008</td>\n",
       "      <td>237113</td>\n",
       "      <td>3</td>\n",
       "      <td>5</td>\n",
       "      <td>2</td>\n",
       "      <td>1299</td>\n",
       "    </tr>\n",
       "    <tr>\n",
       "      <th>17045</th>\n",
       "      <td>22</td>\n",
       "      <td>2002</td>\n",
       "      <td>238768</td>\n",
       "      <td>1</td>\n",
       "      <td>0</td>\n",
       "      <td>2</td>\n",
       "      <td>2999</td>\n",
       "    </tr>\n",
       "    <tr>\n",
       "      <th>17046</th>\n",
       "      <td>24</td>\n",
       "      <td>2016</td>\n",
       "      <td>49800</td>\n",
       "      <td>3</td>\n",
       "      <td>5</td>\n",
       "      <td>2</td>\n",
       "      <td>1797</td>\n",
       "    </tr>\n",
       "    <tr>\n",
       "      <th>17047</th>\n",
       "      <td>56</td>\n",
       "      <td>2005</td>\n",
       "      <td>255809</td>\n",
       "      <td>3</td>\n",
       "      <td>5</td>\n",
       "      <td>2</td>\n",
       "      <td>2362</td>\n",
       "    </tr>\n",
       "  </tbody>\n",
       "</table>\n",
       "<p>17048 rows × 7 columns</p>\n",
       "</div>"
      ],
      "text/plain": [
       "       Brand  Year  Kilometers  Gearbox  Fuel  Status    CC\n",
       "0         56  2010      263000        1     5       2  2362\n",
       "1         39  2021          19        1     0       1  2143\n",
       "2         39  2021          24        1     0       1  2143\n",
       "3         39  2010      120579        1     0       2  2143\n",
       "4         22  2016       72506        1     5       2  1796\n",
       "...      ...   ...         ...      ...   ...     ...   ...\n",
       "17043     22  2003      230441        1     5       2  3791\n",
       "17044     56  2008      237113        3     5       2  1299\n",
       "17045     22  2002      238768        1     0       2  2999\n",
       "17046     24  2016       49800        3     5       2  1797\n",
       "17047     56  2005      255809        3     5       2  2362\n",
       "\n",
       "[17048 rows x 7 columns]"
      ]
     },
     "execution_count": 87,
     "metadata": {},
     "output_type": "execute_result"
    }
   ],
   "source": [
    "X"
   ]
  },
  {
   "cell_type": "markdown",
   "id": "749ca5e9-774f-4090-a4bd-e79be12bdc4e",
   "metadata": {},
   "source": [
    "# Let's split the feature and target dataset into train, and test sets."
   ]
  },
  {
   "cell_type": "code",
   "execution_count": 88,
   "id": "7e42e9b3-30e1-44a1-8b12-c6af3d12c7ff",
   "metadata": {},
   "outputs": [],
   "source": [
    "from sklearn.model_selection import train_test_split"
   ]
  },
  {
   "cell_type": "code",
   "execution_count": 89,
   "id": "b464fe61-2855-4ee6-9e15-a90ea345b4de",
   "metadata": {},
   "outputs": [],
   "source": [
    "X_train, X_test, y_train, y_test = train_test_split(X, y, test_size=0.33, shuffle=True)"
   ]
  },
  {
   "cell_type": "code",
   "execution_count": 90,
   "id": "3f57847b-de9e-4a26-b012-592b6cd5b52a",
   "metadata": {},
   "outputs": [],
   "source": [
    "from sklearn.linear_model import LinearRegression"
   ]
  },
  {
   "cell_type": "code",
   "execution_count": 91,
   "id": "55c78b4f-5644-4bc0-a1b6-4d5a53973952",
   "metadata": {},
   "outputs": [
    {
     "data": {
      "text/plain": [
       "LinearRegression()"
      ]
     },
     "execution_count": 91,
     "metadata": {},
     "output_type": "execute_result"
    }
   ],
   "source": [
    "lm = LinearRegression()\n",
    "lm.fit(X_train, y_train)"
   ]
  },
  {
   "cell_type": "code",
   "execution_count": 99,
   "id": "39f94453-fd87-4ee6-a094-cb5dfbec6bbf",
   "metadata": {},
   "outputs": [
    {
     "data": {
      "text/plain": [
       "0.4234441927626694"
      ]
     },
     "execution_count": 99,
     "metadata": {},
     "output_type": "execute_result"
    }
   ],
   "source": [
    "lm.score(X_train, y_train)"
   ]
  },
  {
   "cell_type": "code",
   "execution_count": 105,
   "id": "eed32829-92b0-4d59-a2d9-fb19ad64c1a4",
   "metadata": {},
   "outputs": [],
   "source": [
    "y_pred = lm.predict(X_test)"
   ]
  },
  {
   "cell_type": "code",
   "execution_count": 106,
   "id": "d7c09683-40fb-4a15-b708-87e5d663347b",
   "metadata": {},
   "outputs": [
    {
     "data": {
      "text/plain": [
       "array([62587.79129587, 14449.67913077, 62138.3659314 , ...,\n",
       "       68363.75681503, 38712.75279054, 75638.80645235])"
      ]
     },
     "execution_count": 106,
     "metadata": {},
     "output_type": "execute_result"
    }
   ],
   "source": [
    "y_pred"
   ]
  },
  {
   "cell_type": "code",
   "execution_count": 107,
   "id": "30a09c7a-26b2-4b73-9743-ebe055d99040",
   "metadata": {},
   "outputs": [
    {
     "data": {
      "text/plain": [
       "1.0"
      ]
     },
     "execution_count": 107,
     "metadata": {},
     "output_type": "execute_result"
    }
   ],
   "source": [
    "lm.score(X_test, y_pred)"
   ]
  },
  {
   "cell_type": "code",
   "execution_count": 108,
   "id": "b471aa91-e393-45e4-bb24-69bcc8a2661f",
   "metadata": {},
   "outputs": [],
   "source": [
    "from sklearn.ensemble import RandomForestRegressor"
   ]
  },
  {
   "cell_type": "code",
   "execution_count": 109,
   "id": "a1c1b007-80b1-4a0c-8573-a710042ba146",
   "metadata": {},
   "outputs": [
    {
     "data": {
      "text/plain": [
       "RandomForestRegressor(max_depth=3)"
      ]
     },
     "execution_count": 109,
     "metadata": {},
     "output_type": "execute_result"
    }
   ],
   "source": [
    "rm = RandomForestRegressor(max_depth=3)\n",
    "rm.fit(X_train, y_train)"
   ]
  },
  {
   "cell_type": "code",
   "execution_count": 111,
   "id": "7499cef9-9971-448b-83f6-832385f36390",
   "metadata": {},
   "outputs": [],
   "source": [
    "y_pred = rm.predict(X_test)"
   ]
  },
  {
   "cell_type": "code",
   "execution_count": 112,
   "id": "b6558fcb-c374-4b6a-8665-a40ec36b334e",
   "metadata": {},
   "outputs": [
    {
     "data": {
      "text/plain": [
       "1.0"
      ]
     },
     "execution_count": 112,
     "metadata": {},
     "output_type": "execute_result"
    }
   ],
   "source": [
    "rm.score(X_test, y_pred)"
   ]
  },
  {
   "cell_type": "code",
   "execution_count": 113,
   "id": "f565997a-e6cc-4836-a509-8102d3918e3c",
   "metadata": {},
   "outputs": [
    {
     "name": "stdout",
     "output_type": "stream",
     "text": [
      "[16321.7894914]\n"
     ]
    }
   ],
   "source": [
    "print(rm.predict([[56, 2012, 56000, 1, 5, 2, 2362]]))"
   ]
  },
  {
   "cell_type": "code",
   "execution_count": 117,
   "id": "b9bbd6b6-dd26-4a7b-8694-4212e853ae62",
   "metadata": {},
   "outputs": [],
   "source": [
    "from sklearn.linear_model import LogisticRegression"
   ]
  },
  {
   "cell_type": "code",
   "execution_count": 119,
   "id": "101602a0-942c-4a5c-b0e0-0dedd4b0f2cd",
   "metadata": {},
   "outputs": [
    {
     "name": "stderr",
     "output_type": "stream",
     "text": [
      "/Users/rahulbohara/opt/anaconda3/lib/python3.9/site-packages/sklearn/linear_model/_logistic.py:763: ConvergenceWarning: lbfgs failed to converge (status=1):\n",
      "STOP: TOTAL NO. of ITERATIONS REACHED LIMIT.\n",
      "\n",
      "Increase the number of iterations (max_iter) or scale the data as shown in:\n",
      "    https://scikit-learn.org/stable/modules/preprocessing.html\n",
      "Please also refer to the documentation for alternative solver options:\n",
      "    https://scikit-learn.org/stable/modules/linear_model.html#logistic-regression\n",
      "  n_iter_i = _check_optimize_result(\n"
     ]
    }
   ],
   "source": [
    "lgm = LogisticRegression()\n",
    "lgm.fit(X_train, y_train)\n",
    "y_pred = lgm.predict(X_test)"
   ]
  },
  {
   "cell_type": "code",
   "execution_count": 120,
   "id": "2b8fde61-4c65-46a7-8638-92dbb18a0fc7",
   "metadata": {},
   "outputs": [
    {
     "data": {
      "text/plain": [
       "array([29990, 29990, 29990, ..., 29990, 29990, 29990])"
      ]
     },
     "execution_count": 120,
     "metadata": {},
     "output_type": "execute_result"
    }
   ],
   "source": [
    "y_pred"
   ]
  },
  {
   "cell_type": "code",
   "execution_count": 121,
   "id": "77a86e20-bbe2-4bfe-a3a2-0d6bf0c29385",
   "metadata": {},
   "outputs": [
    {
     "data": {
      "text/plain": [
       "1.0"
      ]
     },
     "execution_count": 121,
     "metadata": {},
     "output_type": "execute_result"
    }
   ],
   "source": [
    "lgm.score(X_test, y_pred)"
   ]
  },
  {
   "cell_type": "code",
   "execution_count": 122,
   "id": "3cfe6974-23b3-4b8a-a411-07f39d0cf7c2",
   "metadata": {},
   "outputs": [
    {
     "data": {
      "text/plain": [
       "0.018998424093853966"
      ]
     },
     "execution_count": 122,
     "metadata": {},
     "output_type": "execute_result"
    }
   ],
   "source": [
    "lgm.score(X_train, y_train)"
   ]
  },
  {
   "cell_type": "code",
   "execution_count": 123,
   "id": "b32ae6f4-0734-482d-8bf5-41eff53c040b",
   "metadata": {},
   "outputs": [
    {
     "data": {
      "text/plain": [
       "0.015641663704230358"
      ]
     },
     "execution_count": 123,
     "metadata": {},
     "output_type": "execute_result"
    }
   ],
   "source": [
    "lgm.score(X_test, y_test)"
   ]
  },
  {
   "cell_type": "code",
   "execution_count": 124,
   "id": "00605ede-3142-44e5-b8f5-e6d8bde4d22b",
   "metadata": {},
   "outputs": [
    {
     "data": {
      "text/plain": [
       "1.0"
      ]
     },
     "execution_count": 124,
     "metadata": {},
     "output_type": "execute_result"
    }
   ],
   "source": [
    "lgm.score(X_test, y_pred)"
   ]
  },
  {
   "cell_type": "code",
   "execution_count": 125,
   "id": "0bf68098-1e8a-4af2-8f6d-48085d566255",
   "metadata": {},
   "outputs": [],
   "source": [
    "import pickle"
   ]
  },
  {
   "cell_type": "code",
   "execution_count": 126,
   "id": "142b93c7-4dba-4c55-bdef-47efd8e80390",
   "metadata": {},
   "outputs": [],
   "source": [
    "filename = 'finalized_model.sav'\n",
    "pickle.dump(lm, open(filename, \"wb\"))"
   ]
  },
  {
   "cell_type": "code",
   "execution_count": 127,
   "id": "977248c0-7193-4de4-b7ef-68020793b6be",
   "metadata": {},
   "outputs": [
    {
     "data": {
      "text/html": [
       "<div>\n",
       "<style scoped>\n",
       "    .dataframe tbody tr th:only-of-type {\n",
       "        vertical-align: middle;\n",
       "    }\n",
       "\n",
       "    .dataframe tbody tr th {\n",
       "        vertical-align: top;\n",
       "    }\n",
       "\n",
       "    .dataframe thead th {\n",
       "        text-align: right;\n",
       "    }\n",
       "</style>\n",
       "<table border=\"1\" class=\"dataframe\">\n",
       "  <thead>\n",
       "    <tr style=\"text-align: right;\">\n",
       "      <th></th>\n",
       "      <th>Brand</th>\n",
       "      <th>Year</th>\n",
       "      <th>Kilometers</th>\n",
       "      <th>Gearbox</th>\n",
       "      <th>Fuel</th>\n",
       "      <th>Status</th>\n",
       "      <th>CC</th>\n",
       "    </tr>\n",
       "  </thead>\n",
       "  <tbody>\n",
       "    <tr>\n",
       "      <th>11591</th>\n",
       "      <td>26</td>\n",
       "      <td>2020</td>\n",
       "      <td>71625</td>\n",
       "      <td>1</td>\n",
       "      <td>0</td>\n",
       "      <td>2</td>\n",
       "      <td>2999</td>\n",
       "    </tr>\n",
       "    <tr>\n",
       "      <th>3799</th>\n",
       "      <td>22</td>\n",
       "      <td>2012</td>\n",
       "      <td>70019</td>\n",
       "      <td>1</td>\n",
       "      <td>5</td>\n",
       "      <td>2</td>\n",
       "      <td>1598</td>\n",
       "    </tr>\n",
       "    <tr>\n",
       "      <th>9425</th>\n",
       "      <td>56</td>\n",
       "      <td>2019</td>\n",
       "      <td>51805</td>\n",
       "      <td>3</td>\n",
       "      <td>0</td>\n",
       "      <td>2</td>\n",
       "      <td>2753</td>\n",
       "    </tr>\n",
       "    <tr>\n",
       "      <th>5888</th>\n",
       "      <td>22</td>\n",
       "      <td>2016</td>\n",
       "      <td>114123</td>\n",
       "      <td>1</td>\n",
       "      <td>0</td>\n",
       "      <td>2</td>\n",
       "      <td>2231</td>\n",
       "    </tr>\n",
       "    <tr>\n",
       "      <th>16030</th>\n",
       "      <td>57</td>\n",
       "      <td>2013</td>\n",
       "      <td>177950</td>\n",
       "      <td>1</td>\n",
       "      <td>0</td>\n",
       "      <td>2</td>\n",
       "      <td>1598</td>\n",
       "    </tr>\n",
       "    <tr>\n",
       "      <th>...</th>\n",
       "      <td>...</td>\n",
       "      <td>...</td>\n",
       "      <td>...</td>\n",
       "      <td>...</td>\n",
       "      <td>...</td>\n",
       "      <td>...</td>\n",
       "      <td>...</td>\n",
       "    </tr>\n",
       "    <tr>\n",
       "      <th>10445</th>\n",
       "      <td>38</td>\n",
       "      <td>2021</td>\n",
       "      <td>29551</td>\n",
       "      <td>1</td>\n",
       "      <td>5</td>\n",
       "      <td>2</td>\n",
       "      <td>2488</td>\n",
       "    </tr>\n",
       "    <tr>\n",
       "      <th>15629</th>\n",
       "      <td>41</td>\n",
       "      <td>2019</td>\n",
       "      <td>91498</td>\n",
       "      <td>1</td>\n",
       "      <td>5</td>\n",
       "      <td>2</td>\n",
       "      <td>1998</td>\n",
       "    </tr>\n",
       "    <tr>\n",
       "      <th>7228</th>\n",
       "      <td>3</td>\n",
       "      <td>2022</td>\n",
       "      <td>1680</td>\n",
       "      <td>1</td>\n",
       "      <td>0</td>\n",
       "      <td>0</td>\n",
       "      <td>1968</td>\n",
       "    </tr>\n",
       "    <tr>\n",
       "      <th>13674</th>\n",
       "      <td>41</td>\n",
       "      <td>2021</td>\n",
       "      <td>16771</td>\n",
       "      <td>1</td>\n",
       "      <td>5</td>\n",
       "      <td>2</td>\n",
       "      <td>1499</td>\n",
       "    </tr>\n",
       "    <tr>\n",
       "      <th>7783</th>\n",
       "      <td>29</td>\n",
       "      <td>2022</td>\n",
       "      <td>10</td>\n",
       "      <td>1</td>\n",
       "      <td>5</td>\n",
       "      <td>1</td>\n",
       "      <td>3604</td>\n",
       "    </tr>\n",
       "  </tbody>\n",
       "</table>\n",
       "<p>5626 rows × 7 columns</p>\n",
       "</div>"
      ],
      "text/plain": [
       "       Brand  Year  Kilometers  Gearbox  Fuel  Status    CC\n",
       "11591     26  2020       71625        1     0       2  2999\n",
       "3799      22  2012       70019        1     5       2  1598\n",
       "9425      56  2019       51805        3     0       2  2753\n",
       "5888      22  2016      114123        1     0       2  2231\n",
       "16030     57  2013      177950        1     0       2  1598\n",
       "...      ...   ...         ...      ...   ...     ...   ...\n",
       "10445     38  2021       29551        1     5       2  2488\n",
       "15629     41  2019       91498        1     5       2  1998\n",
       "7228       3  2022        1680        1     0       0  1968\n",
       "13674     41  2021       16771        1     5       2  1499\n",
       "7783      29  2022          10        1     5       1  3604\n",
       "\n",
       "[5626 rows x 7 columns]"
      ]
     },
     "execution_count": 127,
     "metadata": {},
     "output_type": "execute_result"
    }
   ],
   "source": [
    "X_test"
   ]
  },
  {
   "cell_type": "code",
   "execution_count": 128,
   "id": "334d63f7-7ee8-435e-8673-6d03d260da1b",
   "metadata": {},
   "outputs": [
    {
     "data": {
      "text/plain": [
       "11591    46634\n",
       "3799      9996\n",
       "9425     56990\n",
       "5888     21990\n",
       "16030    19500\n",
       "         ...  \n",
       "10445    61990\n",
       "15629    24790\n",
       "7228     74850\n",
       "13674    38990\n",
       "7783     98000\n",
       "Name: Price, Length: 5626, dtype: int64"
      ]
     },
     "execution_count": 128,
     "metadata": {},
     "output_type": "execute_result"
    }
   ],
   "source": [
    "y_test"
   ]
  },
  {
   "cell_type": "code",
   "execution_count": null,
   "id": "bdfeecd2-20db-493a-84fe-ff0dba4662de",
   "metadata": {},
   "outputs": [],
   "source": []
  }
 ],
 "metadata": {
  "kernelspec": {
   "display_name": "Python 3 (ipykernel)",
   "language": "python",
   "name": "python3"
  },
  "language_info": {
   "codemirror_mode": {
    "name": "ipython",
    "version": 3
   },
   "file_extension": ".py",
   "mimetype": "text/x-python",
   "name": "python",
   "nbconvert_exporter": "python",
   "pygments_lexer": "ipython3",
   "version": "3.9.7"
  }
 },
 "nbformat": 4,
 "nbformat_minor": 5
}
